{
 "metadata": {
  "language_info": {
   "codemirror_mode": {
    "name": "ipython",
    "version": 3
   },
   "file_extension": ".py",
   "mimetype": "text/x-python",
   "name": "python",
   "nbconvert_exporter": "python",
   "pygments_lexer": "ipython3",
   "version": "3.8.5-final"
  },
  "orig_nbformat": 2,
  "kernelspec": {
   "name": "python3",
   "display_name": "Python 3"
  }
 },
 "nbformat": 4,
 "nbformat_minor": 2,
 "cells": [
  {
   "cell_type": "code",
   "execution_count": 12,
   "metadata": {},
   "outputs": [
    {
     "output_type": "execute_result",
     "data": {
      "text/plain": [
       "'/mnt/d/Local_Lab/PyPlayground'"
      ]
     },
     "metadata": {},
     "execution_count": 12
    }
   ],
   "source": [
    "# os\n",
    "import os\n",
    "os.getcwd()"
   ]
  },
  {
   "cell_type": "code",
   "execution_count": 9,
   "metadata": {},
   "outputs": [],
   "source": [
    "os.chdir('/mnt/d/Local_Lab/PyPlayground')\n",
    "os.getcwd()\n",
    "if not os.path.exists('NewDir'):\n",
    "    os.mkdir('NewDir')\n",
    "# os.system('mkdir today')"
   ]
  },
  {
   "cell_type": "code",
   "execution_count": 8,
   "metadata": {
    "tags": [
     "outputPrepend"
    ]
   },
   "outputs": [
    {
     "output_type": "stream",
     "name": "stdout",
     "text": [
      "    sched_rr_get_interval(pid, /)\n        Return the round-robin quantum for the process identified by pid, in seconds.\n        \n        Value returned is a float.\n    \n    sched_setaffinity(pid, mask, /)\n        Set the CPU affinity of the process identified by pid to mask.\n        \n        mask should be an iterable of integers identifying CPUs.\n    \n    sched_setparam(pid, param, /)\n        Set scheduling parameters for the process identified by pid.\n        \n        If pid is 0, sets parameters for the calling process.\n        param should be an instance of sched_param.\n    \n    sched_setscheduler(pid, policy, param, /)\n        Set the scheduling policy for the process identified by pid.\n        \n        If pid is 0, the calling process is changed.\n        param is an instance of sched_param.\n    \n    sched_yield()\n        Voluntarily relinquish the CPU.\n    \n    sendfile(...)\n        sendfile(out, in, offset, count) -> byteswritten\n        sendfile(out, in, offset, count[, headers][, trailers], flags=0)\n                    -> byteswritten\n        Copy count bytes from file descriptor in to file descriptor out.\n    \n    set_blocking(fd, blocking, /)\n        Set the blocking mode of the specified file descriptor.\n        \n        Set the O_NONBLOCK flag if blocking is False,\n        clear the O_NONBLOCK flag otherwise.\n    \n    set_inheritable(fd, inheritable, /)\n        Set the inheritable flag of the specified file descriptor.\n    \n    setegid(egid, /)\n        Set the current process's effective group id.\n    \n    seteuid(euid, /)\n        Set the current process's effective user id.\n    \n    setgid(gid, /)\n        Set the current process's group id.\n    \n    setgroups(groups, /)\n        Set the groups of the current process to list.\n    \n    setpgid(pid, pgrp, /)\n        Call the system call setpgid(pid, pgrp).\n    \n    setpgrp()\n        Make the current process the leader of its process group.\n    \n    setpriority(which, who, priority)\n        Set program scheduling priority.\n    \n    setregid(rgid, egid, /)\n        Set the current process's real and effective group ids.\n    \n    setresgid(rgid, egid, sgid, /)\n        Set the current process's real, effective, and saved group ids.\n    \n    setresuid(ruid, euid, suid, /)\n        Set the current process's real, effective, and saved user ids.\n    \n    setreuid(ruid, euid, /)\n        Set the current process's real and effective user ids.\n    \n    setsid()\n        Call the system call setsid().\n    \n    setuid(uid, /)\n        Set the current process's user id.\n    \n    setxattr(path, attribute, value, flags=0, *, follow_symlinks=True)\n        Set extended attribute attribute on path to value.\n        \n        path may be either a string, a path-like object,  or an open file descriptor.\n        If follow_symlinks is False, and the last element of the path is a symbolic\n          link, setxattr will modify the symbolic link itself instead of the file\n          the link points to.\n    \n    spawnl(mode, file, *args)\n        spawnl(mode, file, *args) -> integer\n        \n        Execute file with arguments from args in a subprocess.\n        If mode == P_NOWAIT return the pid of the process.\n        If mode == P_WAIT return the process's exit code if it exits normally;\n        otherwise return -SIG, where SIG is the signal that killed it.\n    \n    spawnle(mode, file, *args)\n        spawnle(mode, file, *args, env) -> integer\n        \n        Execute file with arguments from args in a subprocess with the\n        supplied environment.\n        If mode == P_NOWAIT return the pid of the process.\n        If mode == P_WAIT return the process's exit code if it exits normally;\n        otherwise return -SIG, where SIG is the signal that killed it.\n    \n    spawnlp(mode, file, *args)\n        spawnlp(mode, file, *args) -> integer\n        \n        Execute file (which is looked for along $PATH) with arguments from\n        args in a subprocess with the supplied environment.\n        If mode == P_NOWAIT return the pid of the process.\n        If mode == P_WAIT return the process's exit code if it exits normally;\n        otherwise return -SIG, where SIG is the signal that killed it.\n    \n    spawnlpe(mode, file, *args)\n        spawnlpe(mode, file, *args, env) -> integer\n        \n        Execute file (which is looked for along $PATH) with arguments from\n        args in a subprocess with the supplied environment.\n        If mode == P_NOWAIT return the pid of the process.\n        If mode == P_WAIT return the process's exit code if it exits normally;\n        otherwise return -SIG, where SIG is the signal that killed it.\n    \n    spawnv(mode, file, args)\n        spawnv(mode, file, args) -> integer\n        \n        Execute file with arguments from args in a subprocess.\n        If mode == P_NOWAIT return the pid of the process.\n        If mode == P_WAIT return the process's exit code if it exits normally;\n        otherwise return -SIG, where SIG is the signal that killed it.\n    \n    spawnve(mode, file, args, env)\n        spawnve(mode, file, args, env) -> integer\n        \n        Execute file with arguments from args in a subprocess with the\n        specified environment.\n        If mode == P_NOWAIT return the pid of the process.\n        If mode == P_WAIT return the process's exit code if it exits normally;\n        otherwise return -SIG, where SIG is the signal that killed it.\n    \n    spawnvp(mode, file, args)\n        spawnvp(mode, file, args) -> integer\n        \n        Execute file (which is looked for along $PATH) with arguments from\n        args in a subprocess.\n        If mode == P_NOWAIT return the pid of the process.\n        If mode == P_WAIT return the process's exit code if it exits normally;\n        otherwise return -SIG, where SIG is the signal that killed it.\n    \n    spawnvpe(mode, file, args, env)\n        spawnvpe(mode, file, args, env) -> integer\n        \n        Execute file (which is looked for along $PATH) with arguments from\n        args in a subprocess with the supplied environment.\n        If mode == P_NOWAIT return the pid of the process.\n        If mode == P_WAIT return the process's exit code if it exits normally;\n        otherwise return -SIG, where SIG is the signal that killed it.\n    \n    stat(path, *, dir_fd=None, follow_symlinks=True)\n        Perform a stat system call on the given path.\n        \n          path\n            Path to be examined; can be string, bytes, a path-like object or\n            open-file-descriptor int.\n          dir_fd\n            If not None, it should be a file descriptor open to a directory,\n            and path should be a relative string; path will then be relative to\n            that directory.\n          follow_symlinks\n            If False, and the last element of the path is a symbolic link,\n            stat will examine the symbolic link itself instead of the file\n            the link points to.\n        \n        dir_fd and follow_symlinks may not be implemented\n          on your platform.  If they are unavailable, using them will raise a\n          NotImplementedError.\n        \n        It's an error to use dir_fd or follow_symlinks when specifying path as\n          an open file descriptor.\n    \n    statvfs(path)\n        Perform a statvfs system call on the given path.\n        \n        path may always be specified as a string.\n        On some platforms, path may also be specified as an open file descriptor.\n          If this functionality is unavailable, using it raises an exception.\n    \n    strerror(code, /)\n        Translate an error code to a message string.\n    \n    symlink(src, dst, target_is_directory=False, *, dir_fd=None)\n        Create a symbolic link pointing to src named dst.\n        \n        target_is_directory is required on Windows if the target is to be\n          interpreted as a directory.  (On Windows, symlink requires\n          Windows 6.0 or greater, and raises a NotImplementedError otherwise.)\n          target_is_directory is ignored on non-Windows platforms.\n        \n        If dir_fd is not None, it should be a file descriptor open to a directory,\n          and path should be relative; path will then be relative to that directory.\n        dir_fd may not be implemented on your platform.\n          If it is unavailable, using it will raise a NotImplementedError.\n    \n    sync()\n        Force write of everything to disk.\n    \n    sysconf(name, /)\n        Return an integer-valued system configuration variable.\n    \n    system(command)\n        Execute the command in a subshell.\n    \n    tcgetpgrp(fd, /)\n        Return the process group associated with the terminal specified by fd.\n    \n    tcsetpgrp(fd, pgid, /)\n        Set the process group associated with the terminal specified by fd.\n    \n    times()\n        Return a collection containing process timing information.\n        \n        The object returned behaves like a named tuple with these fields:\n          (utime, stime, cutime, cstime, elapsed_time)\n        All fields are floating point numbers.\n    \n    truncate(path, length)\n        Truncate a file, specified by path, to a specific length.\n        \n        On some platforms, path may also be specified as an open file descriptor.\n          If this functionality is unavailable, using it raises an exception.\n    \n    ttyname(fd, /)\n        Return the name of the terminal device connected to 'fd'.\n        \n        fd\n          Integer file descriptor handle.\n    \n    umask(mask, /)\n        Set the current numeric umask and return the previous umask.\n    \n    uname()\n        Return an object identifying the current operating system.\n        \n        The object behaves like a named tuple with the following fields:\n          (sysname, nodename, release, version, machine)\n    \n    unlink(path, *, dir_fd=None)\n        Remove a file (same as remove()).\n        \n        If dir_fd is not None, it should be a file descriptor open to a directory,\n          and path should be relative; path will then be relative to that directory.\n        dir_fd may not be implemented on your platform.\n          If it is unavailable, using it will raise a NotImplementedError.\n    \n    unsetenv(name, /)\n        Delete an environment variable.\n    \n    urandom(size, /)\n        Return a bytes object containing random bytes suitable for cryptographic use.\n    \n    utime(...)\n        Set the access and modified time of path.\n        \n        path may always be specified as a string.\n        On some platforms, path may also be specified as an open file descriptor.\n          If this functionality is unavailable, using it raises an exception.\n        \n        If times is not None, it must be a tuple (atime, mtime);\n            atime and mtime should be expressed as float seconds since the epoch.\n        If ns is specified, it must be a tuple (atime_ns, mtime_ns);\n            atime_ns and mtime_ns should be expressed as integer nanoseconds\n            since the epoch.\n        If times is None and ns is unspecified, utime uses the current time.\n        Specifying tuples for both times and ns is an error.\n        \n        If dir_fd is not None, it should be a file descriptor open to a directory,\n          and path should be relative; path will then be relative to that directory.\n        If follow_symlinks is False, and the last element of the path is a symbolic\n          link, utime will modify the symbolic link itself instead of the file the\n          link points to.\n        It is an error to use dir_fd or follow_symlinks when specifying path\n          as an open file descriptor.\n        dir_fd and follow_symlinks may not be available on your platform.\n          If they are unavailable, using them will raise a NotImplementedError.\n    \n    wait()\n        Wait for completion of a child process.\n        \n        Returns a tuple of information about the child process:\n            (pid, status)\n    \n    wait3(options)\n        Wait for completion of a child process.\n        \n        Returns a tuple of information about the child process:\n          (pid, status, rusage)\n    \n    wait4(pid, options)\n        Wait for completion of a specific child process.\n        \n        Returns a tuple of information about the child process:\n          (pid, status, rusage)\n    \n    waitid(idtype, id, options, /)\n        Returns the result of waiting for a process or processes.\n        \n          idtype\n            Must be one of be P_PID, P_PGID or P_ALL.\n          id\n            The id to wait on.\n          options\n            Constructed from the ORing of one or more of WEXITED, WSTOPPED\n            or WCONTINUED and additionally may be ORed with WNOHANG or WNOWAIT.\n        \n        Returns either waitid_result or None if WNOHANG is specified and there are\n        no children in a waitable state.\n    \n    waitpid(pid, options, /)\n        Wait for completion of a given child process.\n        \n        Returns a tuple of information regarding the child process:\n            (pid, status)\n        \n        The options argument is ignored on Windows.\n    \n    walk(top, topdown=True, onerror=None, followlinks=False)\n        Directory tree generator.\n        \n        For each directory in the directory tree rooted at top (including top\n        itself, but excluding '.' and '..'), yields a 3-tuple\n        \n            dirpath, dirnames, filenames\n        \n        dirpath is a string, the path to the directory.  dirnames is a list of\n        the names of the subdirectories in dirpath (excluding '.' and '..').\n        filenames is a list of the names of the non-directory files in dirpath.\n        Note that the names in the lists are just names, with no path components.\n        To get a full path (which begins with top) to a file or directory in\n        dirpath, do os.path.join(dirpath, name).\n        \n        If optional arg 'topdown' is true or not specified, the triple for a\n        directory is generated before the triples for any of its subdirectories\n        (directories are generated top down).  If topdown is false, the triple\n        for a directory is generated after the triples for all of its\n        subdirectories (directories are generated bottom up).\n        \n        When topdown is true, the caller can modify the dirnames list in-place\n        (e.g., via del or slice assignment), and walk will only recurse into the\n        subdirectories whose names remain in dirnames; this can be used to prune the\n        search, or to impose a specific order of visiting.  Modifying dirnames when\n        topdown is false has no effect on the behavior of os.walk(), since the\n        directories in dirnames have already been generated by the time dirnames\n        itself is generated. No matter the value of topdown, the list of\n        subdirectories is retrieved before the tuples for the directory and its\n        subdirectories are generated.\n        \n        By default errors from the os.scandir() call are ignored.  If\n        optional arg 'onerror' is specified, it should be a function; it\n        will be called with one argument, an OSError instance.  It can\n        report the error to continue with the walk, or raise the exception\n        to abort the walk.  Note that the filename is available as the\n        filename attribute of the exception object.\n        \n        By default, os.walk does not follow symbolic links to subdirectories on\n        systems that support them.  In order to get this functionality, set the\n        optional argument 'followlinks' to true.\n        \n        Caution:  if you pass a relative pathname for top, don't change the\n        current working directory between resumptions of walk.  walk never\n        changes the current directory, and assumes that the client doesn't\n        either.\n        \n        Example:\n        \n        import os\n        from os.path import join, getsize\n        for root, dirs, files in os.walk('python/Lib/email'):\n            print(root, \"consumes\", end=\"\")\n            print(sum(getsize(join(root, name)) for name in files), end=\"\")\n            print(\"bytes in\", len(files), \"non-directory files\")\n            if 'CVS' in dirs:\n                dirs.remove('CVS')  # don't visit CVS directories\n    \n    write(fd, data, /)\n        Write a bytes object to a file descriptor.\n    \n    writev(fd, buffers, /)\n        Iterate over buffers, and write the contents of each to a file descriptor.\n        \n        Returns the total number of bytes written.\n        buffers must be a sequence of bytes-like objects.\n\nDATA\n    CLD_CONTINUED = 6\n    CLD_DUMPED = 3\n    CLD_EXITED = 1\n    CLD_TRAPPED = 4\n    EX_CANTCREAT = 73\n    EX_CONFIG = 78\n    EX_DATAERR = 65\n    EX_IOERR = 74\n    EX_NOHOST = 68\n    EX_NOINPUT = 66\n    EX_NOPERM = 77\n    EX_NOUSER = 67\n    EX_OK = 0\n    EX_OSERR = 71\n    EX_OSFILE = 72\n    EX_PROTOCOL = 76\n    EX_SOFTWARE = 70\n    EX_TEMPFAIL = 75\n    EX_UNAVAILABLE = 69\n    EX_USAGE = 64\n    F_LOCK = 1\n    F_OK = 0\n    F_TEST = 3\n    F_TLOCK = 2\n    F_ULOCK = 0\n    GRND_NONBLOCK = 1\n    GRND_RANDOM = 2\n    MFD_ALLOW_SEALING = 2\n    MFD_CLOEXEC = 1\n    MFD_HUGETLB = 4\n    MFD_HUGE_16GB = -2013265920\n    MFD_HUGE_16MB = 1610612736\n    MFD_HUGE_1GB = 2013265920\n    MFD_HUGE_1MB = 1342177280\n    MFD_HUGE_256MB = 1879048192\n    MFD_HUGE_2GB = 2080374784\n    MFD_HUGE_2MB = 1409286144\n    MFD_HUGE_32MB = 1677721600\n    MFD_HUGE_512KB = 1275068416\n    MFD_HUGE_512MB = 1946157056\n    MFD_HUGE_64KB = 1073741824\n    MFD_HUGE_8MB = 1543503872\n    MFD_HUGE_MASK = 63\n    MFD_HUGE_SHIFT = 26\n    NGROUPS_MAX = 65536\n    O_ACCMODE = 3\n    O_APPEND = 1024\n    O_ASYNC = 8192\n    O_CLOEXEC = 524288\n    O_CREAT = 64\n    O_DIRECT = 16384\n    O_DIRECTORY = 65536\n    O_DSYNC = 4096\n    O_EXCL = 128\n    O_LARGEFILE = 0\n    O_NDELAY = 2048\n    O_NOATIME = 262144\n    O_NOCTTY = 256\n    O_NOFOLLOW = 131072\n    O_NONBLOCK = 2048\n    O_PATH = 2097152\n    O_RDONLY = 0\n    O_RDWR = 2\n    O_RSYNC = 1052672\n    O_SYNC = 1052672\n    O_TMPFILE = 4259840\n    O_TRUNC = 512\n    O_WRONLY = 1\n    POSIX_FADV_DONTNEED = 4\n    POSIX_FADV_NOREUSE = 5\n    POSIX_FADV_NORMAL = 0\n    POSIX_FADV_RANDOM = 1\n    POSIX_FADV_SEQUENTIAL = 2\n    POSIX_FADV_WILLNEED = 3\n    POSIX_SPAWN_CLOSE = 1\n    POSIX_SPAWN_DUP2 = 2\n    POSIX_SPAWN_OPEN = 0\n    PRIO_PGRP = 1\n    PRIO_PROCESS = 0\n    PRIO_USER = 2\n    P_ALL = 0\n    P_NOWAIT = 1\n    P_NOWAITO = 1\n    P_PGID = 2\n    P_PID = 1\n    P_WAIT = 0\n    RTLD_DEEPBIND = 8\n    RTLD_GLOBAL = 256\n    RTLD_LAZY = 1\n    RTLD_LOCAL = 0\n    RTLD_NODELETE = 4096\n    RTLD_NOLOAD = 4\n    RTLD_NOW = 2\n    RWF_DSYNC = 2\n    RWF_HIPRI = 1\n    RWF_NOWAIT = 8\n    RWF_SYNC = 4\n    R_OK = 4\n    SCHED_BATCH = 3\n    SCHED_FIFO = 1\n    SCHED_IDLE = 5\n    SCHED_OTHER = 0\n    SCHED_RESET_ON_FORK = 1073741824\n    SCHED_RR = 2\n    SEEK_CUR = 1\n    SEEK_DATA = 3\n    SEEK_END = 2\n    SEEK_HOLE = 4\n    SEEK_SET = 0\n    ST_APPEND = 256\n    ST_MANDLOCK = 64\n    ST_NOATIME = 1024\n    ST_NODEV = 4\n    ST_NODIRATIME = 2048\n    ST_NOEXEC = 8\n    ST_NOSUID = 2\n    ST_RDONLY = 1\n    ST_RELATIME = 4096\n    ST_SYNCHRONOUS = 16\n    ST_WRITE = 128\n    TMP_MAX = 238328\n    WCONTINUED = 8\n    WEXITED = 4\n    WNOHANG = 1\n    WNOWAIT = 16777216\n    WSTOPPED = 2\n    WUNTRACED = 2\n    W_OK = 2\n    XATTR_CREATE = 1\n    XATTR_REPLACE = 2\n    XATTR_SIZE_MAX = 65536\n    X_OK = 1\n    __all__ = ['altsep', 'curdir', 'pardir', 'sep', 'pathsep', 'linesep', ...\n    altsep = None\n    confstr_names = {'CS_GNU_LIBC_VERSION': 2, 'CS_GNU_LIBPTHREAD_VERSION'...\n    curdir = '.'\n    defpath = '/bin:/usr/bin'\n    devnull = '/dev/null'\n    environ = environ({'USER': 'lyc64', 'VSCODE_WSL_EXT_LOCATI...END': 'mo...\n    environb = environ({b'USER': b'lyc64', b'VSCODE_WSL_EXT_LOC...ND': b'm...\n    extsep = '.'\n    linesep = '\\n'\n    name = 'posix'\n    pardir = '..'\n    pathconf_names = {'PC_ALLOC_SIZE_MIN': 18, 'PC_ASYNC_IO': 10, 'PC_CHOW...\n    pathsep = ':'\n    sep = '/'\n    supports_bytes_environ = True\n    sysconf_names = {'SC_2_CHAR_TERM': 95, 'SC_2_C_BIND': 47, 'SC_2_C_DEV'...\n\nFILE\n    /usr/lib/python3.8/os.py\n\n\n"
     ]
    }
   ],
   "source": [
    "help(os)"
   ]
  },
  {
   "cell_type": "code",
   "execution_count": 16,
   "metadata": {},
   "outputs": [
    {
     "output_type": "execute_result",
     "data": {
      "text/plain": [
       "'saveit2.txt'"
      ]
     },
     "metadata": {},
     "execution_count": 16
    }
   ],
   "source": [
    "# shutil is a lib for file and dir management\n",
    "import shutil\n",
    "os.chdir('/mnt/d/Local_Lab/PyPlayground/basic')\n",
    "shutil.copyfile('saveit.txt', 'saveit2.txt')"
   ]
  },
  {
   "cell_type": "code",
   "execution_count": 17,
   "metadata": {},
   "outputs": [
    {
     "output_type": "execute_result",
     "data": {
      "text/plain": [
       "['const.py',\n",
       " 'hello.py',\n",
       " 'import_threenames.py',\n",
       " 'next.py',\n",
       " 'pass.py',\n",
       " 'script1.py',\n",
       " 'threenames.py',\n",
       " 'yieldTest.py']"
      ]
     },
     "metadata": {},
     "execution_count": 17
    }
   ],
   "source": [
    "import glob\n",
    "glob.glob('*.py')"
   ]
  },
  {
   "cell_type": "code",
   "execution_count": 18,
   "metadata": {},
   "outputs": [
    {
     "output_type": "stream",
     "name": "stdout",
     "text": [
      "['ipykernel_launcher', '--ip=127.0.0.1', '--stdin=9013', '--control=9011', '--hb=9010', '--Session.signature_scheme=\"hmac-sha256\"', '--Session.key=b\"3f087925-7a5a-4ae2-b664-f0731cdb4b28\"', '--shell=9012', '--transport=\"tcp\"', '--iopub=9014', '--f=/tmp/tmp-5611POvQkBl9nzCa.json']\n"
     ]
    }
   ],
   "source": [
    "# cmd args\n",
    "import sys\n",
    "print(sys.argv)"
   ]
  },
  {
   "cell_type": "code",
   "execution_count": null,
   "metadata": {},
   "outputs": [],
   "source": [
    "# 正则匹配\n",
    "import re\n"
   ]
  }
 ]
}