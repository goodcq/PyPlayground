{
 "metadata": {
  "language_info": {
   "codemirror_mode": {
    "name": "ipython",
    "version": 3
   },
   "file_extension": ".py",
   "mimetype": "text/x-python",
   "name": "python",
   "nbconvert_exporter": "python",
   "pygments_lexer": "ipython3",
   "version": "3.8.5-final"
  },
  "orig_nbformat": 2,
  "kernelspec": {
   "name": "python3",
   "display_name": "Python 3"
  }
 },
 "nbformat": 4,
 "nbformat_minor": 2,
 "cells": [
  {
   "cell_type": "code",
   "execution_count": 10,
   "metadata": {},
   "outputs": [],
   "source": [
    "# genrally there's not any const in Python, but you can use some technique to realize your own constant\n",
    "\n",
    "# Approach 1: def own constant\n",
    "class const(object):\n",
    "    class ConstError(TypeError): \n",
    "        pass\n",
    "    class ConstCaseError(ConstError):\n",
    "        pass\n",
    "\n",
    "    def __setattr__(self, name, value):\n",
    "        if self.__dict__.has_key(name):\n",
    "            raise Exception(self.ConstError, \"can't change const.%s\" % name)\n",
    "        if not name.isupper():\n",
    "            raise Exception(self.ConstCaseError, \"const name '%s' is not all uppercase\" % name)\n",
    "\n",
    "        self.__dict__[name] = value\n",
    "\n",
    "import sys\n",
    "sys.modules[__name__] = const()\n",
    "\n",
    "const.Name = 1\n",
    "const.name = 2"
   ]
  },
  {
   "cell_type": "code",
   "execution_count": 5,
   "metadata": {},
   "outputs": [],
   "source": [
    "# Approach 2: use mypy to check\n",
    "from typing import Final\n",
    "\n",
    "a: Final = 1\n",
    "\n",
    "a = 2"
   ]
  }
 ]
}